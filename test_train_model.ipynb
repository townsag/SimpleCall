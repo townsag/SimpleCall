{
 "cells": [
  {
   "cell_type": "code",
   "execution_count": 1,
   "metadata": {},
   "outputs": [],
   "source": [
    "from src.nanopore_dataset import BaseNanoporeDataset, custom_collate\n",
    "from torch.utils.data import DataLoader\n",
    "import jax\n",
    "from jax import numpy as jnp"
   ]
  },
  {
   "cell_type": "code",
   "execution_count": 2,
   "metadata": {},
   "outputs": [],
   "source": [
    "NON_RECURRENT_ENCODING_DICT = {'A':1, 'C':2, 'G':3, 'T':4, '':0}\n",
    "NON_RECURRENT_DECODING_DICT = {1:'A', 2:'C', 3:'G', 4:'T', 0:''}\n",
    "BASES = ['A', 'C', 'G', 'T']\n",
    "BASES_CTC = 'N' + ''.join(BASES)\n",
    "\n",
    "data_dir = \"/Users/andrewtownsend/Desktop/SJSU/CS271/final_project/SimpleCall/practice_data/training_input\"\n",
    "batch_size = 64\n",
    "s2s = False"
   ]
  },
  {
   "cell_type": "code",
   "execution_count": 3,
   "metadata": {},
   "outputs": [
    {
     "name": "stdout",
     "output_type": "stream",
     "text": [
      "num train:  2\n",
      "num valid:  1\n"
     ]
    },
    {
     "name": "stderr",
     "output_type": "stream",
     "text": [
      "/Users/andrewtownsend/.pyenv/versions/jax_flax_chex/lib/python3.11/site-packages/torch/utils/data/sampler.py:64: UserWarning: `data_source` argument is not used and will be removed in 2.2.0.You may still have custom implementation that utilizes it.\n",
      "  warnings.warn(\"`data_source` argument is not used and will be removed in 2.2.0.\"\n"
     ]
    }
   ],
   "source": [
    "dataset = BaseNanoporeDataset(\n",
    "    data_dir = data_dir, \n",
    "    decoding_dict = NON_RECURRENT_DECODING_DICT, \n",
    "    encoding_dict = NON_RECURRENT_ENCODING_DICT, \n",
    "    split = 0.95, \n",
    "    shuffle = True, \n",
    "    seed = 1,\n",
    "    s2s = s2s,\n",
    ")"
   ]
  },
  {
   "cell_type": "code",
   "execution_count": 4,
   "metadata": {},
   "outputs": [],
   "source": [
    "dataloader_train = DataLoader(\n",
    "    dataset, \n",
    "    batch_size = batch_size, \n",
    "    sampler = dataset.train_sampler,\n",
    "    collate_fn=custom_collate,\n",
    "    num_workers = 1\n",
    ")\n",
    "dataloader_validation = DataLoader(\n",
    "    dataset, \n",
    "    batch_size = batch_size, \n",
    "    sampler = dataset.validation_sampler,\n",
    "    collate_fn=custom_collate,\n",
    "    num_workers = 1\n",
    ")"
   ]
  },
  {
   "cell_type": "code",
   "execution_count": 5,
   "metadata": {},
   "outputs": [],
   "source": [
    "seed = 0\n",
    "learning_rate = 1e-3\n",
    "num_epochs = 5"
   ]
  },
  {
   "cell_type": "code",
   "execution_count": 6,
   "metadata": {},
   "outputs": [],
   "source": [
    "from src.model import create_train_state, train_one_epoch, evaluate_model"
   ]
  },
  {
   "cell_type": "code",
   "execution_count": 7,
   "metadata": {},
   "outputs": [],
   "source": [
    "train_state = create_train_state(key=jax.random.PRNGKey(seed), learning_rate=learning_rate)"
   ]
  },
  {
   "cell_type": "code",
   "execution_count": 8,
   "metadata": {},
   "outputs": [
    {
     "name": "stdout",
     "output_type": "stream",
     "text": [
      "batch num:  0\n"
     ]
    },
    {
     "ename": "TypeError",
     "evalue": "Argument 'NACGT' of type <class 'str'> is not a valid JAX type",
     "output_type": "error",
     "traceback": [
      "\u001b[0;31m---------------------------------------------------------------------------\u001b[0m",
      "\u001b[0;31mTypeError\u001b[0m                                 Traceback (most recent call last)",
      "Cell \u001b[0;32mIn[8], line 1\u001b[0m\n\u001b[0;32m----> 1\u001b[0m test_metrics \u001b[38;5;241m=\u001b[39m \u001b[43mevaluate_model\u001b[49m\u001b[43m(\u001b[49m\u001b[43mtrain_state\u001b[49m\u001b[43m,\u001b[49m\u001b[43m \u001b[49m\u001b[43mtest_dataloader\u001b[49m\u001b[38;5;241;43m=\u001b[39;49m\u001b[43mdataloader_validation\u001b[49m\u001b[43m,\u001b[49m\u001b[43m \u001b[49m\u001b[43malphabet\u001b[49m\u001b[38;5;241;43m=\u001b[39;49m\u001b[43mBASES_CTC\u001b[49m\u001b[43m)\u001b[49m\n",
      "File \u001b[0;32m~/Desktop/SJSU/CS271/final_project/SimpleCall/src/model.py:177\u001b[0m, in \u001b[0;36mevaluate_model\u001b[0;34m(state, test_dataloader, alphabet)\u001b[0m\n\u001b[1;32m    175\u001b[0m test_labels_padding_mask \u001b[38;5;241m=\u001b[39m test_labels_padding_mask\u001b[38;5;241m.\u001b[39mat[test_labels \u001b[38;5;241m==\u001b[39m \u001b[38;5;241m0\u001b[39m]\u001b[38;5;241m.\u001b[39mset(\u001b[38;5;241m1\u001b[39m)\n\u001b[1;32m    176\u001b[0m \u001b[38;5;66;03m# test_labels_padding_mask[test_labels == 0] = 1\u001b[39;00m\n\u001b[0;32m--> 177\u001b[0m metrics \u001b[38;5;241m=\u001b[39m \u001b[43meval_step\u001b[49m\u001b[43m(\u001b[49m\u001b[43mstate\u001b[49m\u001b[38;5;241;43m=\u001b[39;49m\u001b[43mstate\u001b[49m\u001b[43m,\u001b[49m\u001b[43m \u001b[49m\u001b[43msamples\u001b[49m\u001b[38;5;241;43m=\u001b[39;49m\u001b[43mtest_features\u001b[49m\u001b[43m,\u001b[49m\u001b[43m \u001b[49m\u001b[43mground_truth_labels\u001b[49m\u001b[38;5;241;43m=\u001b[39;49m\u001b[43mtest_labels\u001b[49m\u001b[43m,\u001b[49m\u001b[43m \u001b[49m\n\u001b[1;32m    178\u001b[0m \u001b[43m                    \u001b[49m\u001b[43mlabels_padding_mask\u001b[49m\u001b[38;5;241;43m=\u001b[39;49m\u001b[43mtest_labels_padding_mask\u001b[49m\u001b[43m,\u001b[49m\u001b[43m \u001b[49m\u001b[43malphabet\u001b[49m\u001b[38;5;241;43m=\u001b[39;49m\u001b[43malphabet\u001b[49m\u001b[43m)\u001b[49m\n\u001b[1;32m    179\u001b[0m metrics \u001b[38;5;241m=\u001b[39m jax\u001b[38;5;241m.\u001b[39mdevice_get(metrics)  \u001b[38;5;66;03m# pull from the accelerator onto host (CPU)\u001b[39;00m\n\u001b[1;32m    180\u001b[0m metrics \u001b[38;5;241m=\u001b[39m jax\u001b[38;5;241m.\u001b[39mtree_map(\u001b[38;5;28;01mlambda\u001b[39;00m x: x\u001b[38;5;241m.\u001b[39mitem(), metrics)  \u001b[38;5;66;03m# np.ndarray -> scalar\u001b[39;00m\n",
      "    \u001b[0;31m[... skipping hidden 6 frame]\u001b[0m\n",
      "File \u001b[0;32m~/.pyenv/versions/jax_flax_chex/lib/python3.11/site-packages/jax/_src/api_util.py:589\u001b[0m, in \u001b[0;36m_str_abstractify\u001b[0;34m(x)\u001b[0m\n\u001b[1;32m    588\u001b[0m \u001b[38;5;28;01mdef\u001b[39;00m \u001b[38;5;21m_str_abstractify\u001b[39m(x):\n\u001b[0;32m--> 589\u001b[0m   \u001b[38;5;28;01mraise\u001b[39;00m \u001b[38;5;167;01mTypeError\u001b[39;00m(\u001b[38;5;124mf\u001b[39m\u001b[38;5;124m\"\u001b[39m\u001b[38;5;124mArgument \u001b[39m\u001b[38;5;124m'\u001b[39m\u001b[38;5;132;01m{\u001b[39;00mx\u001b[38;5;132;01m}\u001b[39;00m\u001b[38;5;124m'\u001b[39m\u001b[38;5;124m of type \u001b[39m\u001b[38;5;132;01m{\u001b[39;00m\u001b[38;5;28mtype\u001b[39m(x)\u001b[38;5;132;01m}\u001b[39;00m\u001b[38;5;124m is not a valid JAX type\u001b[39m\u001b[38;5;124m\"\u001b[39m)\n",
      "\u001b[0;31mTypeError\u001b[0m: Argument 'NACGT' of type <class 'str'> is not a valid JAX type"
     ]
    }
   ],
   "source": [
    "test_metrics = evaluate_model(train_state, test_dataloader=dataloader_validation, alphabet=BASES_CTC)"
   ]
  },
  {
   "cell_type": "code",
   "execution_count": 10,
   "metadata": {},
   "outputs": [
    {
     "data": {
      "text/plain": [
       "Array(0.5, dtype=float32)"
      ]
     },
     "execution_count": 10,
     "metadata": {},
     "output_type": "execute_result"
    }
   ],
   "source": [
    "test_metrics[\"accuracy\"]"
   ]
  },
  {
   "cell_type": "code",
   "execution_count": 7,
   "metadata": {},
   "outputs": [
    {
     "name": "stdout",
     "output_type": "stream",
     "text": [
      "epoch:  1 , batch:  0\n",
      "{'accuracy': Array(0.5, dtype=float32, weak_type=True), 'loss': Array(333.17853, dtype=float32)}\n",
      "epoch:  1 , batch:  1\n",
      "{'accuracy': Array(0.5, dtype=float32, weak_type=True), 'loss': Array(334.05536, dtype=float32)}\n",
      "epoch:  1 , batch:  2\n",
      "{'accuracy': Array(0.5, dtype=float32, weak_type=True), 'loss': Array(310.0108, dtype=float32)}\n",
      "epoch:  1 , batch:  3\n",
      "{'accuracy': Array(0.5, dtype=float32, weak_type=True), 'loss': Array(318.36694, dtype=float32)}\n",
      "epoch:  1 , batch:  4\n",
      "{'accuracy': Array(0.5, dtype=float32, weak_type=True), 'loss': Array(323.3166, dtype=float32)}\n",
      "epoch:  1 , batch:  5\n",
      "{'accuracy': Array(0.5, dtype=float32, weak_type=True), 'loss': Array(303.33563, dtype=float32)}\n",
      "epoch:  1 , batch:  6\n",
      "{'accuracy': Array(0.5, dtype=float32, weak_type=True), 'loss': Array(310.03143, dtype=float32)}\n",
      "epoch:  1 , batch:  7\n",
      "{'accuracy': Array(0.5, dtype=float32, weak_type=True), 'loss': Array(305.69177, dtype=float32)}\n",
      "epoch:  1 , batch:  8\n",
      "{'accuracy': Array(0.5, dtype=float32, weak_type=True), 'loss': Array(304.71417, dtype=float32)}\n",
      "epoch:  1 , batch:  9\n",
      "{'accuracy': Array(0.5, dtype=float32, weak_type=True), 'loss': Array(298.0069, dtype=float32)}\n",
      "epoch:  1 , batch:  10\n",
      "{'accuracy': Array(0.5, dtype=float32, weak_type=True), 'loss': Array(306.35977, dtype=float32)}\n",
      "epoch:  1 , batch:  11\n",
      "{'accuracy': Array(0.5, dtype=float32, weak_type=True), 'loss': Array(304.17664, dtype=float32)}\n",
      "epoch:  1 , batch:  12\n",
      "{'accuracy': Array(0.5, dtype=float32, weak_type=True), 'loss': Array(311.2343, dtype=float32)}\n",
      "epoch:  1 , batch:  13\n",
      "{'accuracy': Array(0.5, dtype=float32, weak_type=True), 'loss': Array(308.42767, dtype=float32)}\n",
      "epoch:  1 , batch:  14\n",
      "{'accuracy': Array(0.5, dtype=float32, weak_type=True), 'loss': Array(308.98334, dtype=float32)}\n",
      "epoch:  1 , batch:  15\n",
      "{'accuracy': Array(0.5, dtype=float32, weak_type=True), 'loss': Array(287.23755, dtype=float32)}\n",
      "epoch:  1 , batch:  16\n",
      "{'accuracy': Array(0.5, dtype=float32, weak_type=True), 'loss': Array(294.51505, dtype=float32)}\n",
      "epoch:  1 , batch:  17\n",
      "{'accuracy': Array(0.5, dtype=float32, weak_type=True), 'loss': Array(287.2791, dtype=float32)}\n"
     ]
    },
    {
     "ename": "KeyboardInterrupt",
     "evalue": "",
     "output_type": "error",
     "traceback": [
      "\u001b[0;31m---------------------------------------------------------------------------\u001b[0m",
      "\u001b[0;31mKeyboardInterrupt\u001b[0m                         Traceback (most recent call last)",
      "Cell \u001b[0;32mIn[7], line 4\u001b[0m\n\u001b[1;32m      1\u001b[0m train_state \u001b[38;5;241m=\u001b[39m create_train_state(key\u001b[38;5;241m=\u001b[39mjax\u001b[38;5;241m.\u001b[39mrandom\u001b[38;5;241m.\u001b[39mPRNGKey(seed), learning_rate\u001b[38;5;241m=\u001b[39mlearning_rate)\n\u001b[1;32m      3\u001b[0m \u001b[38;5;28;01mfor\u001b[39;00m epoch \u001b[38;5;129;01min\u001b[39;00m \u001b[38;5;28mrange\u001b[39m(\u001b[38;5;241m1\u001b[39m, num_epochs \u001b[38;5;241m+\u001b[39m \u001b[38;5;241m1\u001b[39m):\n\u001b[0;32m----> 4\u001b[0m     train_state, train_metrics, flag \u001b[38;5;241m=\u001b[39m \u001b[43mtrain_one_epoch\u001b[49m\u001b[43m(\u001b[49m\u001b[43mtrain_state\u001b[49m\u001b[43m,\u001b[49m\u001b[43m \u001b[49m\u001b[43mdataloader_train\u001b[49m\u001b[43m,\u001b[49m\u001b[43m \u001b[49m\u001b[43mepoch\u001b[49m\u001b[43m)\u001b[49m\n\u001b[1;32m      5\u001b[0m     \u001b[38;5;28;01mif\u001b[39;00m flag:\n\u001b[1;32m      6\u001b[0m         \u001b[38;5;28;01mbreak\u001b[39;00m\n",
      "File \u001b[0;32m~/Desktop/SJSU/CS271/final_project/SimpleCall/src/model.py:124\u001b[0m, in \u001b[0;36mtrain_one_epoch\u001b[0;34m(state, dataloader, epoch)\u001b[0m\n\u001b[1;32m    122\u001b[0m labels_padding_mask \u001b[38;5;241m=\u001b[39m np\u001b[38;5;241m.\u001b[39mzeros_like(labels)\n\u001b[1;32m    123\u001b[0m labels_padding_mask[labels \u001b[38;5;241m==\u001b[39m \u001b[38;5;241m0\u001b[39m] \u001b[38;5;241m=\u001b[39m \u001b[38;5;241m1\u001b[39m\n\u001b[0;32m--> 124\u001b[0m state, metrics \u001b[38;5;241m=\u001b[39m \u001b[43mtrain_step\u001b[49m\u001b[43m(\u001b[49m\u001b[43mstate\u001b[49m\u001b[43m,\u001b[49m\u001b[43m \u001b[49m\u001b[43mfeatures\u001b[49m\u001b[43m,\u001b[49m\u001b[43m \u001b[49m\u001b[43mlabels\u001b[49m\u001b[43m,\u001b[49m\u001b[43m \u001b[49m\u001b[43mlabels_padding_mask\u001b[49m\u001b[43m,\u001b[49m\u001b[43m \u001b[49m\u001b[43mepoch\u001b[49m\u001b[43m)\u001b[49m\n\u001b[1;32m    125\u001b[0m batch_metrics\u001b[38;5;241m.\u001b[39mappend(metrics)\n\u001b[1;32m    126\u001b[0m \u001b[38;5;28mprint\u001b[39m(\u001b[38;5;124m\"\u001b[39m\u001b[38;5;124mepoch: \u001b[39m\u001b[38;5;124m\"\u001b[39m, epoch, \u001b[38;5;124m\"\u001b[39m\u001b[38;5;124m, batch: \u001b[39m\u001b[38;5;124m\"\u001b[39m, count)\n",
      "File \u001b[0;32m<string>:1\u001b[0m, in \u001b[0;36m<lambda>\u001b[0;34m(_cls, count, mu, nu)\u001b[0m\n",
      "\u001b[0;31mKeyboardInterrupt\u001b[0m: "
     ]
    }
   ],
   "source": [
    "\n",
    "train_state = create_train_state(key=jax.random.PRNGKey(seed), learning_rate=learning_rate)\n",
    "\n",
    "for epoch in range(1, num_epochs + 1):\n",
    "    train_state, train_metrics, flag = train_one_epoch(train_state, dataloader_train, epoch)\n",
    "    if flag:\n",
    "        break\n",
    "    print(f\"Train epoch: {epoch}, loss: {train_metrics['loss']}, accuracy: {train_metrics['accuracy'] * 100}\")\n",
    "\n",
    "    # test_metrics = evaluate_model(train_state, test_inputs, test_targets)\n",
    "    # print(f\"\\tTest epoch: {epoch}, loss: {test_metrics['loss']}, accuracy: {test_metrics['accuracy'] * 100}\")"
   ]
  }
 ],
 "metadata": {
  "kernelspec": {
   "display_name": "jax_flax_chex",
   "language": "python",
   "name": "python3"
  },
  "language_info": {
   "codemirror_mode": {
    "name": "ipython",
    "version": 3
   },
   "file_extension": ".py",
   "mimetype": "text/x-python",
   "name": "python",
   "nbconvert_exporter": "python",
   "pygments_lexer": "ipython3",
   "version": "3.11.6"
  }
 },
 "nbformat": 4,
 "nbformat_minor": 2
}
